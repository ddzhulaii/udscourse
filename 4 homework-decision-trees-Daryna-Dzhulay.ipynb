{
 "cells": [
  {
   "cell_type": "markdown",
   "metadata": {},
   "source": [
    "### Lecture 4: Homework"
   ]
  },
  {
   "cell_type": "markdown",
   "metadata": {},
   "source": [
    "Today we gonna learn how to choose between ML models, based on data type. Your task would be to predict **the edibility of a mushroom** based on sample descriptions (binary classification problem)\n",
    "\n",
    "The **tricky part here is that 95% of the features are of categorical type.**\n",
    "<br>That's the one where we would **(usually)  prefer tree-based algorithms over linear methods**\n",
    "\n",
    "Although this dataset was originally contributed to the UCI Machine Learning repository nearly 30 years ago, mushroom hunting (otherwise known as \"shrooming\") is enjoying new peaks in popularity. Learn which features spell certain death and which are most palatable in this dataset of mushroom characteristics. And how certain can your model be?\n",
    "\n",
    "This dataset includes descriptions of hypothetical samples corresponding to 23 species of gilled mushrooms in the Agaricus and Lepiota Family Mushroom drawn from The Audubon Society Field Guide to North American Mushrooms (1981). Each species is identified as definitely edible, definitely poisonous, or of unknown edibility and not recommended. This latter class was combined with the poisonous one. The Guide clearly states that there is no simple rule for determining the edibility of a mushroom; no rule like \"leaflets three, let it be'' for Poisonous Oak and Ivy.\n",
    "\n",
    "More information can be found [here](https://www.kaggle.com/uciml/mushroom-classification/data)\n",
    "\n",
    "Please find below correspondent [google form](https://docs.google.com/forms/d/e/1FAIpQLScmKfUApMlcD81u9UZxM7xG3vJiEJHrPrG-3b0i_jyPEDijgQ/viewform) to submit your answers"
   ]
  },
  {
   "cell_type": "code",
   "execution_count": 1,
   "metadata": {
    "ExecuteTime": {
     "end_time": "2018-03-01T19:13:18.719050Z",
     "start_time": "2018-03-01T19:13:18.204437Z"
    }
   },
   "outputs": [],
   "source": [
    "# library import\n",
    "import pandas as pd\n",
    "import numpy as np\n",
    "from os.path import join as pjoin\n",
    "pd.options.display.max_columns = 50\n",
    "pd.options.display.max_colwidth = 100\n",
    "\n",
    "# preprocessing / validation\n",
    "from sklearn.preprocessing import LabelEncoder, OneHotEncoder\n",
    "from sklearn.model_selection import (\n",
    "    train_test_split, StratifiedKFold, cross_val_score, GridSearchCV\n",
    ")\n",
    "# ML models\n",
    "from sklearn.tree import DecisionTreeClassifier\n",
    "from sklearn.linear_model import LogisticRegression\n",
    "\n",
    "# metrics\n",
    "from sklearn.metrics import classification_report, f1_score"
   ]
  },
  {
   "cell_type": "code",
   "execution_count": 2,
   "metadata": {
    "ExecuteTime": {
     "end_time": "2018-03-01T19:13:18.765926Z",
     "start_time": "2018-03-01T19:13:18.719050Z"
    }
   },
   "outputs": [
    {
     "name": "stdout",
     "output_type": "stream",
     "text": [
      "(6499, 23) (1625, 22)\n"
     ]
    }
   ],
   "source": [
    "# read data\n",
    "df_train = pd.read_csv('4-mushrooms-train.csv')\n",
    "df_test = pd.read_csv('4-mushrooms-test.csv')\n",
    "print(df_train.shape, df_test.shape)"
   ]
  },
  {
   "cell_type": "code",
   "execution_count": 3,
   "metadata": {
    "ExecuteTime": {
     "end_time": "2018-03-01T19:13:18.803688Z",
     "start_time": "2018-03-01T19:13:18.765926Z"
    }
   },
   "outputs": [
    {
     "data": {
      "text/html": [
       "<div>\n",
       "<style scoped>\n",
       "    .dataframe tbody tr th:only-of-type {\n",
       "        vertical-align: middle;\n",
       "    }\n",
       "\n",
       "    .dataframe tbody tr th {\n",
       "        vertical-align: top;\n",
       "    }\n",
       "\n",
       "    .dataframe thead th {\n",
       "        text-align: right;\n",
       "    }\n",
       "</style>\n",
       "<table border=\"1\" class=\"dataframe\">\n",
       "  <thead>\n",
       "    <tr style=\"text-align: right;\">\n",
       "      <th></th>\n",
       "      <th>target</th>\n",
       "      <th>cap_shape</th>\n",
       "      <th>cap_surface</th>\n",
       "      <th>cap_color</th>\n",
       "      <th>bruises</th>\n",
       "      <th>odor</th>\n",
       "      <th>gill_attachment</th>\n",
       "      <th>gill_spacing</th>\n",
       "      <th>gill_size</th>\n",
       "      <th>gill_color</th>\n",
       "      <th>stalk_shape</th>\n",
       "      <th>stalk_root</th>\n",
       "      <th>stalk_surface_above_ring</th>\n",
       "      <th>stalk_surface_below_ring</th>\n",
       "      <th>stalk_color_above_ring</th>\n",
       "      <th>stalk_color_below_ring</th>\n",
       "      <th>veil_type</th>\n",
       "      <th>veil_color</th>\n",
       "      <th>ring_number</th>\n",
       "      <th>ring_type</th>\n",
       "      <th>spore_print_color</th>\n",
       "      <th>population</th>\n",
       "      <th>habitat</th>\n",
       "    </tr>\n",
       "  </thead>\n",
       "  <tbody>\n",
       "    <tr>\n",
       "      <th>0</th>\n",
       "      <td>0</td>\n",
       "      <td>convex</td>\n",
       "      <td>scaly</td>\n",
       "      <td>brown</td>\n",
       "      <td>bruises</td>\n",
       "      <td>pungent</td>\n",
       "      <td>free</td>\n",
       "      <td>close</td>\n",
       "      <td>narrow</td>\n",
       "      <td>white</td>\n",
       "      <td>enlarging</td>\n",
       "      <td>equal</td>\n",
       "      <td>smooth</td>\n",
       "      <td>smooth</td>\n",
       "      <td>white</td>\n",
       "      <td>white</td>\n",
       "      <td>partial</td>\n",
       "      <td>white</td>\n",
       "      <td>one</td>\n",
       "      <td>pendant</td>\n",
       "      <td>brown</td>\n",
       "      <td>scattered</td>\n",
       "      <td>urban</td>\n",
       "    </tr>\n",
       "    <tr>\n",
       "      <th>1</th>\n",
       "      <td>1</td>\n",
       "      <td>flat</td>\n",
       "      <td>fibrous</td>\n",
       "      <td>gray</td>\n",
       "      <td>bruises</td>\n",
       "      <td>none</td>\n",
       "      <td>free</td>\n",
       "      <td>close</td>\n",
       "      <td>broad</td>\n",
       "      <td>brown</td>\n",
       "      <td>tapering</td>\n",
       "      <td>bulbous</td>\n",
       "      <td>smooth</td>\n",
       "      <td>smooth</td>\n",
       "      <td>white</td>\n",
       "      <td>white</td>\n",
       "      <td>partial</td>\n",
       "      <td>white</td>\n",
       "      <td>one</td>\n",
       "      <td>pendant</td>\n",
       "      <td>brown</td>\n",
       "      <td>several</td>\n",
       "      <td>woods</td>\n",
       "    </tr>\n",
       "    <tr>\n",
       "      <th>2</th>\n",
       "      <td>0</td>\n",
       "      <td>flat</td>\n",
       "      <td>smooth</td>\n",
       "      <td>brown</td>\n",
       "      <td>no</td>\n",
       "      <td>none</td>\n",
       "      <td>attached</td>\n",
       "      <td>close</td>\n",
       "      <td>broad</td>\n",
       "      <td>orange</td>\n",
       "      <td>enlarging</td>\n",
       "      <td>missing</td>\n",
       "      <td>smooth</td>\n",
       "      <td>smooth</td>\n",
       "      <td>orange</td>\n",
       "      <td>orange</td>\n",
       "      <td>partial</td>\n",
       "      <td>orange</td>\n",
       "      <td>one</td>\n",
       "      <td>pendant</td>\n",
       "      <td>brown</td>\n",
       "      <td>several</td>\n",
       "      <td>leaves</td>\n",
       "    </tr>\n",
       "    <tr>\n",
       "      <th>3</th>\n",
       "      <td>1</td>\n",
       "      <td>convex</td>\n",
       "      <td>fibrous</td>\n",
       "      <td>gray</td>\n",
       "      <td>bruises</td>\n",
       "      <td>none</td>\n",
       "      <td>free</td>\n",
       "      <td>close</td>\n",
       "      <td>broad</td>\n",
       "      <td>brown</td>\n",
       "      <td>tapering</td>\n",
       "      <td>bulbous</td>\n",
       "      <td>smooth</td>\n",
       "      <td>smooth</td>\n",
       "      <td>white</td>\n",
       "      <td>white</td>\n",
       "      <td>partial</td>\n",
       "      <td>white</td>\n",
       "      <td>one</td>\n",
       "      <td>pendant</td>\n",
       "      <td>black</td>\n",
       "      <td>solitary</td>\n",
       "      <td>woods</td>\n",
       "    </tr>\n",
       "    <tr>\n",
       "      <th>4</th>\n",
       "      <td>0</td>\n",
       "      <td>knobbed</td>\n",
       "      <td>smooth</td>\n",
       "      <td>brown</td>\n",
       "      <td>no</td>\n",
       "      <td>foul</td>\n",
       "      <td>free</td>\n",
       "      <td>close</td>\n",
       "      <td>narrow</td>\n",
       "      <td>buff</td>\n",
       "      <td>tapering</td>\n",
       "      <td>missing</td>\n",
       "      <td>silky</td>\n",
       "      <td>smooth</td>\n",
       "      <td>pink</td>\n",
       "      <td>pink</td>\n",
       "      <td>partial</td>\n",
       "      <td>white</td>\n",
       "      <td>one</td>\n",
       "      <td>evanescent</td>\n",
       "      <td>white</td>\n",
       "      <td>several</td>\n",
       "      <td>paths</td>\n",
       "    </tr>\n",
       "  </tbody>\n",
       "</table>\n",
       "</div>"
      ],
      "text/plain": [
       "   target cap_shape cap_surface cap_color  bruises     odor gill_attachment  \\\n",
       "0       0    convex       scaly     brown  bruises  pungent            free   \n",
       "1       1      flat     fibrous      gray  bruises     none            free   \n",
       "2       0      flat      smooth     brown       no     none        attached   \n",
       "3       1    convex     fibrous      gray  bruises     none            free   \n",
       "4       0   knobbed      smooth     brown       no     foul            free   \n",
       "\n",
       "  gill_spacing gill_size gill_color stalk_shape stalk_root  \\\n",
       "0        close    narrow      white   enlarging      equal   \n",
       "1        close     broad      brown    tapering    bulbous   \n",
       "2        close     broad     orange   enlarging    missing   \n",
       "3        close     broad      brown    tapering    bulbous   \n",
       "4        close    narrow       buff    tapering    missing   \n",
       "\n",
       "  stalk_surface_above_ring stalk_surface_below_ring stalk_color_above_ring  \\\n",
       "0                   smooth                   smooth                  white   \n",
       "1                   smooth                   smooth                  white   \n",
       "2                   smooth                   smooth                 orange   \n",
       "3                   smooth                   smooth                  white   \n",
       "4                    silky                   smooth                   pink   \n",
       "\n",
       "  stalk_color_below_ring veil_type veil_color ring_number   ring_type  \\\n",
       "0                  white   partial      white         one     pendant   \n",
       "1                  white   partial      white         one     pendant   \n",
       "2                 orange   partial     orange         one     pendant   \n",
       "3                  white   partial      white         one     pendant   \n",
       "4                   pink   partial      white         one  evanescent   \n",
       "\n",
       "  spore_print_color population habitat  \n",
       "0             brown  scattered   urban  \n",
       "1             brown    several   woods  \n",
       "2             brown    several  leaves  \n",
       "3             black   solitary   woods  \n",
       "4             white    several   paths  "
      ]
     },
     "execution_count": 3,
     "metadata": {},
     "output_type": "execute_result"
    }
   ],
   "source": [
    "# let's see what data looks like\n",
    "df_train.head()"
   ]
  },
  {
   "cell_type": "code",
   "execution_count": 4,
   "metadata": {
    "ExecuteTime": {
     "end_time": "2018-03-01T19:13:18.834937Z",
     "start_time": "2018-03-01T19:13:18.803688Z"
    }
   },
   "outputs": [
    {
     "name": "stdout",
     "output_type": "stream",
     "text": [
      "(8124, 24)\n"
     ]
    },
    {
     "data": {
      "text/plain": [
       "True     6499\n",
       "False    1625\n",
       "Name: is_train, dtype: int64"
      ]
     },
     "execution_count": 4,
     "metadata": {},
     "output_type": "execute_result"
    }
   ],
   "source": [
    "# for convenient calculations, let us merge train with test\n",
    "df = pd.concat([df_train, df_test], axis=0)\n",
    "# add column for filtering train/test\n",
    "df['is_train'] = True\n",
    "df.loc[df.target.isnull(), 'is_train'] = False\n",
    "# check shapes\n",
    "print(df.shape)\n",
    "# check labels\n",
    "df.is_train.value_counts()"
   ]
  },
  {
   "cell_type": "markdown",
   "metadata": {
    "ExecuteTime": {
     "end_time": "2018-03-01T15:42:12.821025Z",
     "start_time": "2018-03-01T15:42:09.355356Z"
    }
   },
   "source": [
    "### Task 1. Which feature has the highest amount of unique values? (joint dataset)\n"
   ]
  },
  {
   "cell_type": "code",
   "execution_count": 5,
   "metadata": {},
   "outputs": [],
   "source": [
    "features = df.drop(['target', 'is_train'], 1).columns.values"
   ]
  },
  {
   "cell_type": "code",
   "execution_count": 6,
   "metadata": {},
   "outputs": [],
   "source": [
    "unq_vals = {}\n",
    "for feature in features:\n",
    "    unq_vals[feature] = len(df[feature].value_counts())"
   ]
  },
  {
   "cell_type": "code",
   "execution_count": 7,
   "metadata": {
    "ExecuteTime": {
     "end_time": "2018-03-01T19:13:18.866187Z",
     "start_time": "2018-03-01T19:13:18.834937Z"
    }
   },
   "outputs": [
    {
     "name": "stdout",
     "output_type": "stream",
     "text": [
      "gill_color\n"
     ]
    }
   ],
   "source": [
    "# your code goes here\n",
    "# ---------------------------------------------------------------\n",
    "most_diversive = sorted(unq_vals, key=unq_vals.get, reverse=True)[0]\n",
    "# ---------------------------------------------------------------\n",
    "\n",
    "print(most_diversive)"
   ]
  },
  {
   "cell_type": "markdown",
   "metadata": {
    "ExecuteTime": {
     "end_time": "2018-03-01T15:54:52.296735Z",
     "start_time": "2018-03-01T15:54:52.281115Z"
    }
   },
   "source": [
    "### Task 2\n",
    "**As a preparation, one would spend up to 15-30 minutes on exploratory data analysis (EDA)** - make sure you understand how features are distributed in train/test, what they look like, are they ordinal/binary/categorical before moving further\n",
    "<br>While doing it, please answer the questions"
   ]
  },
  {
   "cell_type": "code",
   "execution_count": 8,
   "metadata": {},
   "outputs": [
    {
     "name": "stdout",
     "output_type": "stream",
     "text": [
      "bruises has 2 value(s).\n",
      "cap_color has 10 value(s).\n",
      "cap_shape has 6 value(s).\n",
      "cap_surface has 4 value(s).\n",
      "gill_attachment has 2 value(s).\n",
      "gill_color has 12 value(s).\n",
      "gill_size has 2 value(s).\n",
      "gill_spacing has 2 value(s).\n",
      "habitat has 7 value(s).\n",
      "odor has 9 value(s).\n",
      "population has 6 value(s).\n",
      "ring_number has 3 value(s).\n",
      "ring_type has 5 value(s).\n",
      "spore_print_color has 9 value(s).\n",
      "stalk_color_above_ring has 9 value(s).\n",
      "stalk_color_below_ring has 9 value(s).\n",
      "stalk_root has 5 value(s).\n",
      "stalk_shape has 2 value(s).\n",
      "stalk_surface_above_ring has 4 value(s).\n",
      "stalk_surface_below_ring has 4 value(s).\n",
      "veil_color has 4 value(s).\n",
      "veil_type has 1 value(s).\n"
     ]
    }
   ],
   "source": [
    "for col in df.drop(['target', 'is_train'], 1).columns:\n",
    "    print(col, 'has {} value(s).'.format(len(df[col].value_counts())))"
   ]
  },
  {
   "cell_type": "markdown",
   "metadata": {},
   "source": [
    "'veil_type' has only one value, that's why it won't decrease impurity of samples in any leaf at all."
   ]
  },
  {
   "cell_type": "markdown",
   "metadata": {
    "ExecuteTime": {
     "end_time": "2018-03-01T16:27:41.214779Z",
     "start_time": "2018-03-01T16:27:41.199155Z"
    }
   },
   "source": [
    "#### 2.1 Are there any features, obviously redundant to train on? If yes - what are they and why it's better to remove them?"
   ]
  },
  {
   "cell_type": "code",
   "execution_count": 9,
   "metadata": {
    "ExecuteTime": {
     "end_time": "2018-03-01T19:13:18.881811Z",
     "start_time": "2018-03-01T19:13:18.866187Z"
    }
   },
   "outputs": [
    {
     "name": "stdout",
     "output_type": "stream",
     "text": [
      "(8124, 24)\n",
      "(8124, 23)\n"
     ]
    }
   ],
   "source": [
    "print(df.shape)\n",
    "# your code/hardcoded list goes here\n",
    "# ---------------------------------------------------------------\n",
    "redundant_columns = ['veil_type']\n",
    "# ---------------------------------------------------------------\n",
    "# lets drop these columns from joint dataset\n",
    "df_new = df.drop(redundant_columns, axis=1)\n",
    "print(df_new.shape)"
   ]
  },
  {
   "cell_type": "markdown",
   "metadata": {},
   "source": [
    "####  2.2 How many features (excluding target variable and train/test indexing columns) are:\n",
    "- categorical (more than 2 unique values, no explicit ordering)\n",
    "- ordinal (more than 2 unique values, explicit ordering)\n",
    "- binary (2 unique values, doesn't matter whether it has ordering or is \"yes/no\" styled) "
   ]
  },
  {
   "cell_type": "code",
   "execution_count": 10,
   "metadata": {
    "ExecuteTime": {
     "end_time": "2018-03-01T19:13:18.903953Z",
     "start_time": "2018-03-01T19:13:18.883318Z"
    }
   },
   "outputs": [
    {
     "name": "stdout",
     "output_type": "stream",
     "text": [
      "categorical: 15 \n",
      "ordinal: 1 \n",
      "binary: 5\n"
     ]
    }
   ],
   "source": [
    "# your code goes here\n",
    "# ---------------------------------------------------------------\n",
    "ordinal_cols = ['ring_number']\n",
    "binary_cols = sorted([col for col in df_new.drop(['target', 'is_train'], 1).columns if len(df_new[col].value_counts()) == 2])\n",
    "categorical_cols = sorted(df_new.drop(ordinal_cols+binary_cols+['is_train', 'target'], 1).columns.values.tolist())\n",
    "# ---------------------------------------------------------------\n",
    "print('categorical: {} \\nordinal: {} \\nbinary: {}'.format(\n",
    "    len(categorical_cols), len(ordinal_cols), len(binary_cols)))"
   ]
  },
  {
   "cell_type": "code",
   "execution_count": 11,
   "metadata": {
    "ExecuteTime": {
     "end_time": "2018-03-01T19:13:19.066710Z",
     "start_time": "2018-03-01T19:13:18.903953Z"
    }
   },
   "outputs": [],
   "source": [
    "# To be used in training, data must be properly encoded\n",
    "from collections import defaultdict\n",
    "\n",
    "# function to encode categorical data\n",
    "def __encode_categorical(df_list, cat_cols):\n",
    "    # initialize placeholder\n",
    "    d = defaultdict(LabelEncoder)\n",
    "    # fit and encode train/test,\n",
    "    codes = pd.concat(\n",
    "        [df[cat_cols] for df in df_list],\n",
    "        axis=0\n",
    "    ).fillna('').apply(\n",
    "        lambda x: d[x.name].fit(x)\n",
    "    ),\n",
    "    # transform encodings to train/test etc\n",
    "    for df in df_list:\n",
    "        df[cat_cols] = df[cat_cols].fillna('').apply(\n",
    "            lambda x: d[x.name].transform(x))\n",
    "\n",
    "\n",
    "# label encode data (categorical + binary)\n",
    "__encode_categorical(df_list=[df_new], cat_cols=categorical_cols+binary_cols)\n",
    "# make sure you encode the only ordinal column in correct order\n",
    "df_new[ordinal_cols[0]] = df_new[ordinal_cols[0]].map({'none': 0, 'one': 1, 'two': 2})\n",
    "\n",
    "# define useful feature columns to be used for training\n",
    "# (union of all columns discussed above)\n",
    "columns_to_use = binary_cols + categorical_cols + ordinal_cols"
   ]
  },
  {
   "cell_type": "markdown",
   "metadata": {},
   "source": [
    "And let's make chi-squared test now."
   ]
  },
  {
   "cell_type": "code",
   "execution_count": 12,
   "metadata": {},
   "outputs": [],
   "source": [
    "from sklearn.feature_selection import chi2\n",
    "chi_test = chi2(df_new[df_new.is_train == True][columns_to_use], df_new[df_new.is_train==True]['target'])\n",
    "chi_result = pd.Series(index=pd.Index(columns_to_use), data=chi_test[1])"
   ]
  },
  {
   "cell_type": "code",
   "execution_count": 13,
   "metadata": {},
   "outputs": [],
   "source": [
    "#top-3 redundant features \n",
    "#their p-values are much bigger than those of other features\n",
    "top3 = chi_result.sort_values(ascending=False).head(3).index.values.tolist() "
   ]
  },
  {
   "cell_type": "code",
   "execution_count": 14,
   "metadata": {},
   "outputs": [
    {
     "data": {
      "text/plain": [
       "['gill_attachment', 'veil_color', 'habitat']"
      ]
     },
     "execution_count": 14,
     "metadata": {},
     "output_type": "execute_result"
    }
   ],
   "source": [
    "top3"
   ]
  },
  {
   "cell_type": "code",
   "execution_count": 15,
   "metadata": {},
   "outputs": [],
   "source": [
    "#dropping 3 features\n",
    "df_new = df_new.drop(top3, 1)"
   ]
  },
  {
   "cell_type": "code",
   "execution_count": 16,
   "metadata": {},
   "outputs": [],
   "source": [
    "columns_to_use = [col for col in columns_to_use if col not in top3] #update list of features"
   ]
  },
  {
   "cell_type": "markdown",
   "metadata": {
    "ExecuteTime": {
     "end_time": "2018-03-01T16:57:45.813108Z",
     "start_time": "2018-03-01T16:57:45.797483Z"
    }
   },
   "source": [
    "### Task 3. Prepare cross-validation strategy and perform comparison of 2 baseline models (linear vs tree-based)"
   ]
  },
  {
   "cell_type": "markdown",
   "metadata": {},
   "source": [
    "### =====================================================\n",
    "#### Briefly about Validation / Cross-Validation\n",
    "\n",
    "Learning the parameters of a prediction function and testing it on the same data is a methodological mistake: a model that would just repeat the labels of the samples that it has just seen would have a perfect score but **would fail to predict anything useful on yet-unseen data. This situation is called overfitting**. \n",
    "<br>To avoid it, it is common practice when performing a (supervised) machine learning experiment to hold out part of the available data as a test set ```X_test, y_test```. \n",
    "<br>Note that the word “experiment” is not intended to denote academic use only, because even in commercial settings machine learning usually starts out experimentally.\n",
    "\n",
    "When evaluating different settings (“hyperparameters”) for estimators, **there is still a risk of overfitting on the test set** because the parameters can be tweaked until the estimator performs optimally. \n",
    "<br>This way, knowledge about the test set can “leak” into the model and evaluation metrics no longer report on generalization performance. \n",
    "<br>To solve this problem, yet another part of the dataset can be held out as a so-called “validation set”: training proceeds on the training set, after which evaluation is done on the validation set, and when the experiment seems to be successful, final evaluation can be done on the test set.\n",
    "\n",
    "However, by partitioning the available data into three sets, **we drastically reduce the number of samples which can be used for learning the model, and the results can depend on a particular random choice for the pair of (train, validation) sets.**\n",
    "\n",
    "A solution to this problem is a procedure called **cross-validation (CV for short). A test set should still be held out for final evaluation, but the validation set is no longer needed when doing CV**. In the basic approach, called k-fold CV, the training set is split into k smaller sets (other approaches are described below, but generally follow the same principles). The following procedure is followed for each of the k “folds”:\n",
    "\n",
    "- A model is trained using k-1 of the folds as training data;\n",
    "- the resulting model is validated on the remaining part of the data \n",
    "<br>(i.e., it is used as a test set to compute a performance measure such as accuracy).\n",
    "        \n",
    "<img src=\"https://hsto.org/files/b1d/706/e6c/b1d706e6c9df49c297b6152878a2d03f.png\"/ style=\"width:75%\">\n",
    "\n",
    "The performance measure reported by k-fold cross-validation **is then the average of the values computed in the loop**. \n",
    "<br>This approach can be computationally expensive, but does not waste too much data (as it is the case when fixing an arbitrary test set), which is a major advantage in problem such as inverse inference where the number of samples is very small.\n",
    "\n",
    "\n",
    "Some classification problems can **exhibit a large imbalance in the distribution of the target classes: for instance there could be several times more negative samples than positive samples**. \n",
    "<br>In such cases it is recommended to use **stratified sampling** as implemented in sklearn's StratifiedKFold and StratifiedShuffleSplit to ensure that relative class frequencies is approximately preserved in each train and validation fold.\n",
    "\n",
    "More details about different cross-validation strategies, implemented in sklearn, can be found [here](http://scikit-learn.org/stable/modules/cross_validation.html)\n",
    "### ====================================================="
   ]
  },
  {
   "cell_type": "markdown",
   "metadata": {
    "ExecuteTime": {
     "end_time": "2018-03-01T16:57:45.813108Z",
     "start_time": "2018-03-01T16:57:45.797483Z"
    }
   },
   "source": [
    "Prepare KFold with 5 splits, stratified by target variable, shuffled, with fixed random_state = 42\n",
    "<br>**Don't forget to filter by column 'is_train'!**\n",
    "<br>Fit models on subset of features: [columns_to_use]"
   ]
  },
  {
   "cell_type": "code",
   "execution_count": 17,
   "metadata": {
    "ExecuteTime": {
     "end_time": "2018-03-01T19:13:23.353852Z",
     "start_time": "2018-03-01T19:13:19.066710Z"
    }
   },
   "outputs": [
    {
     "name": "stdout",
     "output_type": "stream",
     "text": [
      "DT scoring: 0.90\n",
      "LR scoring: 0.89\n"
     ]
    }
   ],
   "source": [
    "from os import cpu_count\n",
    "\n",
    "n_jobs = max(cpu_count()-1, 1)\n",
    "# cross-validation iterator\n",
    "kf = StratifiedKFold(n_splits=5, shuffle=True, random_state=42)\n",
    "# xtrain, ytrain, DataFrame-like\n",
    "xtrain = df_new[df_new.is_train][columns_to_use]\n",
    "ytrain = df_new[df_new.is_train]['target']\n",
    "# ---------------------------------------------------------------\n",
    "\n",
    "# create Decision Tree with default params, max_depth=3, random_state=42\n",
    "dt = DecisionTreeClassifier(\n",
    "    max_depth=3,\n",
    "    random_state=42\n",
    ")\n",
    "\n",
    "# estimate its f1-score with cross-validation (cross_val_score)\n",
    "# your code goes here\n",
    "# ---------------------------------------------------------------\n",
    "scores_dt = cross_val_score(\n",
    "    estimator=dt,\n",
    "    X=xtrain,\n",
    "    y=ytrain, \n",
    "    scoring='f1', \n",
    "    cv=kf, # cross-validation strategy\n",
    "    n_jobs=n_jobs\n",
    ").mean()\n",
    "print('DT scoring: {:.2f}'.format(scores_dt))\n",
    "# ---------------------------------------------------------------\n",
    "\n",
    "\n",
    "# create Logistic Regression with default params, random_state=42\n",
    "lr = LogisticRegression(\n",
    "    random_state=42\n",
    ")\n",
    "\n",
    "# estimate its f1-score with cross-validation\n",
    "# your code goes here\n",
    "# ---------------------------------------------------------------\n",
    "scores_lr = cross_val_score(\n",
    "    estimator=lr,\n",
    "    X=xtrain, # ...\n",
    "    y=ytrain, # ...\n",
    "    scoring='f1',\n",
    "    cv=kf,\n",
    "    n_jobs=n_jobs\n",
    ").mean()\n",
    "print('LR scoring: {:.2f}'.format(scores_lr))"
   ]
  },
  {
   "cell_type": "markdown",
   "metadata": {},
   "source": [
    "Why is a score of Linear Regression lower than correspondent one of DT?\n",
    "1. Is everything OK with the data format for linear models? (revision of 2 previous lectures). \n",
    "1. If not, what else you should do to use the data appropriately for linear models?\n",
    "1. Why didn't point 1. affect Decision Tree performance?"
   ]
  },
  {
   "cell_type": "markdown",
   "metadata": {
    "ExecuteTime": {
     "end_time": "2018-03-01T17:07:09.097412Z",
     "start_time": "2018-03-01T17:07:09.081783Z"
    }
   },
   "source": [
    "1. No, it should be one-hot encoded.\n",
    "2. Make one-hot encoding for all features.\n",
    "3. Because decision tree classification based on rules which split data the best way, not on probabilities of object to have one or another feature."
   ]
  },
  {
   "cell_type": "code",
   "execution_count": 18,
   "metadata": {},
   "outputs": [],
   "source": [
    "hot_enc = OneHotEncoder()\n",
    "hot_enc.fit(df_new[df_new.is_train][columns_to_use]) \n",
    "train_hot = hot_enc.transform(df_new[df_new.is_train][columns_to_use]) #one-hot encoding of train data"
   ]
  },
  {
   "cell_type": "code",
   "execution_count": 19,
   "metadata": {},
   "outputs": [
    {
     "name": "stdout",
     "output_type": "stream",
     "text": [
      "LR with one-hot encoded data: 0.93\n",
      "Wall time: 193 ms\n"
     ]
    }
   ],
   "source": [
    "%%time\n",
    "new_lr = LogisticRegression(\n",
    "    random_state=42\n",
    ")\n",
    "scores_new_lr = cross_val_score(\n",
    "    estimator=new_lr,\n",
    "    X=train_hot,\n",
    "    y=ytrain,\n",
    "    scoring='f1',\n",
    "    cv=kf\n",
    ").mean()\n",
    "print('LR with one-hot encoded data: {:.2f}'.format(scores_new_lr))"
   ]
  },
  {
   "cell_type": "markdown",
   "metadata": {},
   "source": [
    "Simple logistic regression fitted by one-hot encoded train data performs better on CV than tree."
   ]
  },
  {
   "cell_type": "markdown",
   "metadata": {},
   "source": [
    "### Task 4. Now it's time to do some hyperparam tuning\n",
    "Perform suitable hyperparam tuning using created above cross-validation strategy\n",
    "<br>Main parameters to perform grid-search for:\n",
    "- max_depth (1,2,...None)\n",
    "- min_samples_leaf (1,2,...)\n",
    "- criterion (gini, entropy)\n",
    "- weight (none, balanced)\n",
    "- max_features (sqrt(features), 50%, 75%, all of them, ...)\n",
    "- other params available, see documentation\n",
    "\n",
    "So - use your fantasy for filling-in abovementioned lists\n",
    "\n",
    "You should receive **a gain of 0.01 in f1-score or higher**\n",
    "<br>(current benchmark = +0.0268 gain)"
   ]
  },
  {
   "cell_type": "code",
   "execution_count": 20,
   "metadata": {
    "ExecuteTime": {
     "end_time": "2018-03-01T19:13:36.468592Z",
     "start_time": "2018-03-01T19:13:23.353852Z"
    }
   },
   "outputs": [
    {
     "name": "stdout",
     "output_type": "stream",
     "text": [
      "Fitting 5 folds for each of 50688 candidates, totalling 253440 fits\n"
     ]
    },
    {
     "name": "stderr",
     "output_type": "stream",
     "text": [
      "[Parallel(n_jobs=3)]: Done 131 tasks      | elapsed:    2.6s\n",
      "[Parallel(n_jobs=3)]: Done 2067 tasks      | elapsed:   11.3s\n",
      "[Parallel(n_jobs=3)]: Done 5315 tasks      | elapsed:   25.9s\n",
      "[Parallel(n_jobs=3)]: Done 9843 tasks      | elapsed:   45.1s\n",
      "[Parallel(n_jobs=3)]: Done 15683 tasks      | elapsed:  1.2min\n",
      "[Parallel(n_jobs=3)]: Done 22803 tasks      | elapsed:  1.9min\n",
      "[Parallel(n_jobs=3)]: Done 31235 tasks      | elapsed:  2.7min\n",
      "[Parallel(n_jobs=3)]: Done 40947 tasks      | elapsed:  3.7min\n",
      "[Parallel(n_jobs=3)]: Done 51971 tasks      | elapsed:  4.8min\n",
      "[Parallel(n_jobs=3)]: Done 64275 tasks      | elapsed:  6.2min\n",
      "[Parallel(n_jobs=3)]: Done 77891 tasks      | elapsed:  7.3min\n",
      "[Parallel(n_jobs=3)]: Done 92787 tasks      | elapsed:  8.6min\n",
      "[Parallel(n_jobs=3)]: Done 108995 tasks      | elapsed: 10.2min\n",
      "[Parallel(n_jobs=3)]: Done 126483 tasks      | elapsed: 12.3min\n",
      "[Parallel(n_jobs=3)]: Done 145283 tasks      | elapsed: 13.6min\n",
      "[Parallel(n_jobs=3)]: Done 165363 tasks      | elapsed: 15.3min\n",
      "[Parallel(n_jobs=3)]: Done 186755 tasks      | elapsed: 17.3min\n",
      "[Parallel(n_jobs=3)]: Done 209427 tasks      | elapsed: 18.9min\n",
      "[Parallel(n_jobs=3)]: Done 233411 tasks      | elapsed: 20.8min\n",
      "[Parallel(n_jobs=3)]: Done 253440 out of 253440 | elapsed: 22.8min finished\n"
     ]
    },
    {
     "name": "stdout",
     "output_type": "stream",
     "text": [
      "f1-score best: 0.9283, +0.0291 better than baseline\n",
      "Wall time: 22min 50s\n"
     ]
    }
   ],
   "source": [
    "%%time\n",
    "# your code goes here\n",
    "# ---------------------------------------------------------------\n",
    "# create base model (DT, random state = 42)\n",
    "estimator = DecisionTreeClassifier(\n",
    "    random_state=42\n",
    ")\n",
    "\n",
    "# create parameter grid\n",
    "# http://scikit-learn.org/stable/modules/generated/sklearn.model_selection.GridSearchCV.html\n",
    "params = {\n",
    "    'criterion': ['gini', 'entropy'],\n",
    "    'splitter': ['best', 'random'],\n",
    "    'max_depth': list(range(1, 11)) + [None],\n",
    "    'min_samples_split': list(range(2, 10)),\n",
    "    'min_samples_leaf': list(range(1, 10)),\n",
    "    'max_features': ['sqrt', 'log2', 0.5, 0.75, 0.8, 0.85, 0.9, None],\n",
    "    'class_weight': ['balanced', None]\n",
    "}\n",
    "\n",
    "# create grid search object\n",
    "gs = GridSearchCV(\n",
    "    estimator=estimator,  # base model\n",
    "    param_grid=params,  # params grid to search within\n",
    "    cv=kf,  # cross-validation strategy\n",
    "    error_score=1,  # warnings only\n",
    "    scoring='f1',  # f1-score\n",
    "    # thread count, the higher count - the faster\n",
    "    n_jobs=n_jobs,\n",
    "    verbose=2,  # messages about performed actions\n",
    ")\n",
    "\n",
    "# perform grid search on TRAIN dataset ('is_train' filtering)\n",
    "gs.fit(\n",
    "    X=xtrain,\n",
    "    y=ytrain, # ..\n",
    ")\n",
    "# -------------------------------------------------------------\n",
    "# extract best score on cross-validation\n",
    "best_score = gs.best_score_\n",
    "# extract the estimator (DT) with best params on cross-validation\n",
    "best_dt = gs.best_estimator_\n",
    "# check gain in f1-score\n",
    "print('f1-score best: {:.4f}, +{:.4f} better than baseline'.format(\n",
    "    best_score, (best_score - scores_dt))\n",
    ")"
   ]
  },
  {
   "cell_type": "code",
   "execution_count": 23,
   "metadata": {
    "ExecuteTime": {
     "end_time": "2018-03-01T19:13:36.484218Z",
     "start_time": "2018-03-01T19:13:36.468592Z"
    }
   },
   "outputs": [
    {
     "data": {
      "text/plain": [
       "DecisionTreeClassifier(class_weight='balanced', criterion='entropy',\n",
       "            max_depth=8, max_features=0.5, max_leaf_nodes=None,\n",
       "            min_impurity_decrease=0.0, min_impurity_split=None,\n",
       "            min_samples_leaf=8, min_samples_split=2,\n",
       "            min_weight_fraction_leaf=0.0, presort=False, random_state=42,\n",
       "            splitter='best')"
      ]
     },
     "execution_count": 23,
     "metadata": {},
     "output_type": "execute_result"
    }
   ],
   "source": [
    "# take a look on the best model, compare with the baseline\n",
    "best_dt"
   ]
  },
  {
   "cell_type": "code",
   "execution_count": 24,
   "metadata": {
    "ExecuteTime": {
     "end_time": "2018-03-01T19:13:36.515467Z",
     "start_time": "2018-03-01T19:13:36.484218Z"
    },
    "scrolled": true
   },
   "outputs": [
    {
     "name": "stdout",
     "output_type": "stream",
     "text": [
      "Base on train:   0.8992\n",
      "Base on holdout: 0.8872\n",
      "diff: 0.0119\n",
      "\n",
      "Best on train:   0.9283\n",
      "Best on holdout: 0.9205\n",
      "diff: 0.0078\n",
      "\n",
      "Detailed report (baseline):\n",
      "             precision    recall  f1-score   support\n",
      "\n",
      "          0       0.86      0.92      0.89       791\n",
      "          1       0.92      0.86      0.89       834\n",
      "\n",
      "avg / total       0.89      0.89      0.89      1625\n",
      "\n",
      "Detailed report (best tree):\n",
      "             precision    recall  f1-score   support\n",
      "\n",
      "          0       0.91      0.92      0.92       791\n",
      "          1       0.92      0.92      0.92       834\n",
      "\n",
      "avg / total       0.92      0.92      0.92      1625\n",
      "\n"
     ]
    }
   ],
   "source": [
    "# check performance on holdout dataset, unseen before (filter 'is_train' == False)\n",
    "\n",
    "# your code goes here\n",
    "# ---------------------------------------------------------------\n",
    "# appropriate df_test data subset from 'df' dataframe\n",
    "xtest = df_new[df_new.is_train == False][columns_to_use] # ...\n",
    "# fit baseline model 'dt' on xtrain, ytrain (because it's not fitted yet)\n",
    "dt.fit(xtrain, ytrain)\n",
    "# ---------------------------------------------------------------\n",
    "\n",
    "# baseline model\n",
    "y_true = pd.read_csv('4-mushrooms-y_test.csv')\n",
    "y_pred_baseline = dt.predict(xtest)\n",
    "\n",
    "print('Base on train:   {:.4f}\\nBase on holdout: {:.4f}\\ndiff: {:.4f}'.format(\n",
    "    scores_dt, \n",
    "    f1_score(y_true, y_pred_baseline),\n",
    "    scores_dt - f1_score(y_true, y_pred_baseline)\n",
    "))\n",
    "\n",
    "# best model\n",
    "y_pred_best = best_dt.predict(xtest)\n",
    "\n",
    "print('\\nBest on train:   {:.4f}\\nBest on holdout: {:.4f}\\ndiff: {:.4f}\\n'.format(\n",
    "    best_score, \n",
    "    f1_score(y_true, y_pred_best),\n",
    "    best_score - f1_score(y_true, y_pred_best)\n",
    "))\n",
    "\n",
    "print('Detailed report (baseline):\\n{}\\nDetailed report (best tree):\\n{}'.format(\n",
    "    classification_report(y_true, y_pred_baseline),\n",
    "    classification_report(y_true, y_pred_best)\n",
    "))"
   ]
  },
  {
   "cell_type": "markdown",
   "metadata": {},
   "source": [
    "Now you can see that \n",
    "<br>**absolute values of f1-score is higher and distance between train|holdout is lower** <br>for **best model** in comparison to **baseline**"
   ]
  },
  {
   "cell_type": "markdown",
   "metadata": {},
   "source": [
    "**Bonus question**:\n",
    "\n",
    "Consider two possibilities:\n",
    "- (a) you have trained **one best** (on cross-validation) Decision Tree\n",
    "- (b) you randomly choose 25 subsets of 70% of training data, fits \"overfitted\" (max_depth=None) Decision Trees on it - each of them performs slightly worse than Tree in (a), and then average predicted results over all 25 models (overfitted trees)\n",
    "\n",
    "**Which one of them would most likely give the best results on hold-out dataset? What makes you think that way?**"
   ]
  },
  {
   "cell_type": "raw",
   "metadata": {
    "ExecuteTime": {
     "end_time": "2018-03-01T17:07:09.097412Z",
     "start_time": "2018-03-01T17:07:09.081783Z"
    }
   },
   "source": [
    "---------------------------------------------------------\n",
    "your answer goes here\n",
    "---------------------------------------------------------"
   ]
  },
  {
   "cell_type": "markdown",
   "metadata": {},
   "source": [
    "As seen below, forest performs on holdout dataset worse than best tree, but better than baseline tree.\n",
    "Each of 25 overfitted trees trained on one small subset of data, that's why each tree perfectly predicts class of mushrooms with certain values of features."
   ]
  },
  {
   "cell_type": "code",
   "execution_count": 52,
   "metadata": {},
   "outputs": [],
   "source": [
    "from sklearn.utils import shuffle\n",
    "df_shuffle = shuffle(df_new[df_new.is_train], random_state=42) #shuffle training set"
   ]
  },
  {
   "cell_type": "code",
   "execution_count": 53,
   "metadata": {},
   "outputs": [],
   "source": [
    "from math import ceil\n",
    "train_set_size = ceil(df_shuffle.shape[0]*.7) #taking 70% of train data\n",
    "dftrain_ = df_shuffle.iloc[0:train_set_size, :] #new train"
   ]
  },
  {
   "cell_type": "code",
   "execution_count": 54,
   "metadata": {},
   "outputs": [],
   "source": [
    "xtrain_ = dftrain_[columns_to_use]\n",
    "ytrain_ = dftrain_['target']"
   ]
  },
  {
   "cell_type": "code",
   "execution_count": 55,
   "metadata": {},
   "outputs": [],
   "source": [
    "batch_size = dftrain_.shape[0]/25 #size of data for each tree "
   ]
  },
  {
   "cell_type": "code",
   "execution_count": 56,
   "metadata": {},
   "outputs": [],
   "source": [
    "forest = {} #dict of fitted trees\n",
    "for idx in range(0, 25):\n",
    "    forest[idx+1] = DecisionTreeClassifier(\n",
    "        max_depth=None,\n",
    "        random_state=42\n",
    ")\n",
    "    xbatch = xtrain_.iloc[int(idx*batch_size):int((idx+1)*batch_size), :]\n",
    "    ybatch = ytrain_.iloc[int(idx*batch_size):int((idx+1)*batch_size)]\n",
    "    forest[idx+1].fit(xbatch, ybatch)"
   ]
  },
  {
   "cell_type": "code",
   "execution_count": 57,
   "metadata": {},
   "outputs": [
    {
     "name": "stdout",
     "output_type": "stream",
     "text": [
      "Model 1 has score 0.8120024494794855\n",
      "Model 2 has score 0.8139390168014935\n",
      "Model 3 has score 0.8281157708210278\n",
      "Model 4 has score 0.813968253968254\n",
      "Model 5 has score 0.8048632218844984\n",
      "Model 6 has score 0.7842445620223398\n",
      "Model 7 has score 0.868208092485549\n",
      "Model 8 has score 0.8506024096385543\n",
      "Model 9 has score 0.8292978208232445\n",
      "Model 10 has score 0.8253557567917206\n",
      "Model 11 has score 0.8052930056710775\n",
      "Model 12 has score 0.8331288343558282\n",
      "Model 13 has score 0.8365155131264916\n",
      "Model 14 has score 0.7970660146699267\n",
      "Model 15 has score 0.8219696969696971\n",
      "Model 16 has score 0.837037037037037\n",
      "Model 17 has score 0.7787286063569683\n",
      "Model 18 has score 0.8327272727272728\n",
      "Model 19 has score 0.8614045991298944\n",
      "Model 20 has score 0.8246674727932285\n",
      "Model 21 has score 0.849009900990099\n",
      "Model 22 has score 0.8264264264264265\n",
      "Model 23 has score 0.8105263157894738\n",
      "Model 24 has score 0.8379544054220579\n",
      "Model 25 has score 0.8233815210559396\n"
     ]
    }
   ],
   "source": [
    "pred_hold = {} #predictions of each tree\n",
    "for model in forest:\n",
    "    pred_hold[model] = forest[model].predict(xtest)\n",
    "    score = f1_score(y_true, pred_hold[model])\n",
    "    print('Model {} has score {}'.format(model, score))"
   ]
  },
  {
   "cell_type": "markdown",
   "metadata": {},
   "source": [
    "Each model has much smaller f1-score than baseline and best model."
   ]
  },
  {
   "cell_type": "code",
   "execution_count": 58,
   "metadata": {},
   "outputs": [],
   "source": [
    "pred_hold = pd.DataFrame.from_dict(pred_hold)"
   ]
  },
  {
   "cell_type": "code",
   "execution_count": 59,
   "metadata": {},
   "outputs": [
    {
     "data": {
      "text/plain": [
       "0.9188214070956103"
      ]
     },
     "execution_count": 59,
     "metadata": {},
     "output_type": "execute_result"
    }
   ],
   "source": [
    "f1_score(y_true, pred_hold.mean(1).apply(round)) #f1-score for averaged result of all calssifiers"
   ]
  },
  {
   "cell_type": "code",
   "execution_count": 61,
   "metadata": {},
   "outputs": [
    {
     "name": "stdout",
     "output_type": "stream",
     "text": [
      "Detailed report (forest):\n",
      "             precision    recall  f1-score   support\n",
      "\n",
      "          0       0.91      0.92      0.91       791\n",
      "          1       0.92      0.92      0.92       834\n",
      "\n",
      "avg / total       0.92      0.92      0.92      1625\n",
      "\n",
      "Forest is better than baseline on 0.03 points (for holdout data)\n"
     ]
    }
   ],
   "source": [
    "print('Detailed report (forest):\\n{}'.format(\n",
    "    classification_report(y_true, pred_hold.mean(1).apply(round))\n",
    "))\n",
    "print('Forest is better than baseline on {:.2f} points (for holdout data)'.format(\n",
    "    f1_score(y_true, pred_hold.mean(1).apply(round))-f1_score(y_true, y_pred_baseline)\n",
    "))"
   ]
  }
 ],
 "metadata": {
  "kernelspec": {
   "display_name": "Python 3",
   "language": "python",
   "name": "python3"
  },
  "language_info": {
   "codemirror_mode": {
    "name": "ipython",
    "version": 3
   },
   "file_extension": ".py",
   "mimetype": "text/x-python",
   "name": "python",
   "nbconvert_exporter": "python",
   "pygments_lexer": "ipython3",
   "version": "3.5.4"
  }
 },
 "nbformat": 4,
 "nbformat_minor": 2
}
